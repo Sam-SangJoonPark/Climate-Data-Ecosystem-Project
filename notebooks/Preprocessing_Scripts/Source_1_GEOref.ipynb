{
 "cells": [
  {
   "cell_type": "markdown",
   "id": "43265dd8-f226-44e0-ad21-bf0bcea62375",
   "metadata": {},
   "source": [
    "# Data Source 1 - Geography Reference"
   ]
  },
  {
   "cell_type": "markdown",
   "id": "90e94d04-a0f6-4dca-827e-e94e7e3db799",
   "metadata": {},
   "source": [
    "## MSA_GEOGRAPHY_REF file (2022 version)"
   ]
  },
  {
   "cell_type": "markdown",
   "id": "f9c9b720-bae6-46c3-9ce1-172c1d7a60d1",
   "metadata": {},
   "source": [
    "## Raw data source:\n",
    "\n",
    "https://www.census.gov/programs-surveys/cbp/technical-documentation/reference/metro-area-geography-reference.html"
   ]
  },
  {
   "cell_type": "code",
   "execution_count": 1,
   "id": "3f800e99-0c1b-4082-9353-24ad6152b58d",
   "metadata": {},
   "outputs": [
    {
     "name": "stderr",
     "output_type": "stream",
     "text": [
      "/opt/anaconda3/lib/python3.9/site-packages/pandas/core/computation/expressions.py:21: UserWarning: Pandas requires version '2.8.4' or newer of 'numexpr' (version '2.7.3' currently installed).\n",
      "  from pandas.core.computation.check import NUMEXPR_INSTALLED\n",
      "/opt/anaconda3/lib/python3.9/site-packages/pandas/core/arrays/masked.py:60: UserWarning: Pandas requires version '1.3.6' or newer of 'bottleneck' (version '1.3.2' currently installed).\n",
      "  from pandas.core import (\n"
     ]
    }
   ],
   "source": [
    "import sys\n",
    "sys.path.append('../../scripts')  \n",
    "import merging_utils\n",
    "import yaml\n",
    "import pandas as pd\n",
    "\n",
    "with open(\"../../config/preprocessing.yaml\", \"r\") as f:\n",
    "    preprocessing_config = yaml.safe_load(f)\n",
    "\n",
    "version = 2022\n",
    "prefix = preprocessing_config['geo_ref'][version]['prefix']"
   ]
  },
  {
   "cell_type": "code",
   "execution_count": 2,
   "id": "a4027f4d-78af-46ba-90ad-7d079e5f0814",
   "metadata": {},
   "outputs": [],
   "source": [
    "url = \"https://www2.census.gov/programs-surveys/cbp/technical-documentation/reference/metro-area-geography-reference/msa_county_reference22.txt\"\n",
    "\n",
    "# Load the data\n",
    "df = pd.read_csv(url, encoding='cp1252', quotechar='\"')"
   ]
  },
  {
   "cell_type": "code",
   "execution_count": 3,
   "id": "52366455-0631-42e6-9d49-ad4041422bee",
   "metadata": {},
   "outputs": [
    {
     "data": {
      "text/html": [
       "<div>\n",
       "<style scoped>\n",
       "    .dataframe tbody tr th:only-of-type {\n",
       "        vertical-align: middle;\n",
       "    }\n",
       "\n",
       "    .dataframe tbody tr th {\n",
       "        vertical-align: top;\n",
       "    }\n",
       "\n",
       "    .dataframe thead th {\n",
       "        text-align: right;\n",
       "    }\n",
       "</style>\n",
       "<table border=\"1\" class=\"dataframe\">\n",
       "  <thead>\n",
       "    <tr style=\"text-align: right;\">\n",
       "      <th></th>\n",
       "      <th>msa</th>\n",
       "      <th>msa_name</th>\n",
       "      <th>fipstate</th>\n",
       "      <th>fipscty</th>\n",
       "      <th>county_name</th>\n",
       "    </tr>\n",
       "  </thead>\n",
       "  <tbody>\n",
       "    <tr>\n",
       "      <th>0</th>\n",
       "      <td>10100</td>\n",
       "      <td>Aberdeen, SD Micro Area</td>\n",
       "      <td>46</td>\n",
       "      <td>13</td>\n",
       "      <td>Brown County, South Dakota</td>\n",
       "    </tr>\n",
       "    <tr>\n",
       "      <th>1</th>\n",
       "      <td>10100</td>\n",
       "      <td>Aberdeen, SD Micro Area</td>\n",
       "      <td>46</td>\n",
       "      <td>45</td>\n",
       "      <td>Edmunds County, South Dakota</td>\n",
       "    </tr>\n",
       "    <tr>\n",
       "      <th>2</th>\n",
       "      <td>10140</td>\n",
       "      <td>Aberdeen, WA Micro Area</td>\n",
       "      <td>53</td>\n",
       "      <td>27</td>\n",
       "      <td>Grays Harbor County, Washington</td>\n",
       "    </tr>\n",
       "    <tr>\n",
       "      <th>3</th>\n",
       "      <td>10180</td>\n",
       "      <td>Abilene, TX Metro Area</td>\n",
       "      <td>48</td>\n",
       "      <td>59</td>\n",
       "      <td>Callahan County, Texas</td>\n",
       "    </tr>\n",
       "    <tr>\n",
       "      <th>4</th>\n",
       "      <td>10180</td>\n",
       "      <td>Abilene, TX Metro Area</td>\n",
       "      <td>48</td>\n",
       "      <td>253</td>\n",
       "      <td>Jones County, Texas</td>\n",
       "    </tr>\n",
       "  </tbody>\n",
       "</table>\n",
       "</div>"
      ],
      "text/plain": [
       "     msa                 msa_name  fipstate  fipscty  \\\n",
       "0  10100  Aberdeen, SD Micro Area        46       13   \n",
       "1  10100  Aberdeen, SD Micro Area        46       45   \n",
       "2  10140  Aberdeen, WA Micro Area        53       27   \n",
       "3  10180   Abilene, TX Metro Area        48       59   \n",
       "4  10180   Abilene, TX Metro Area        48      253   \n",
       "\n",
       "                       county_name  \n",
       "0       Brown County, South Dakota  \n",
       "1     Edmunds County, South Dakota  \n",
       "2  Grays Harbor County, Washington  \n",
       "3           Callahan County, Texas  \n",
       "4              Jones County, Texas  "
      ]
     },
     "execution_count": 3,
     "metadata": {},
     "output_type": "execute_result"
    }
   ],
   "source": [
    "df.head(5)"
   ]
  },
  {
   "cell_type": "code",
   "execution_count": 4,
   "id": "e22ad7f7-18fc-4fd6-9e9a-be30cdde8100",
   "metadata": {},
   "outputs": [
    {
     "name": "stdout",
     "output_type": "stream",
     "text": [
      "<class 'pandas.core.frame.DataFrame'>\n",
      "RangeIndex: 1845 entries, 0 to 1844\n",
      "Data columns (total 5 columns):\n",
      " #   Column       Non-Null Count  Dtype \n",
      "---  ------       --------------  ----- \n",
      " 0   msa          1845 non-null   int64 \n",
      " 1   msa_name     1845 non-null   object\n",
      " 2   fipstate     1845 non-null   int64 \n",
      " 3   fipscty      1845 non-null   int64 \n",
      " 4   county_name  1845 non-null   object\n",
      "dtypes: int64(3), object(2)\n",
      "memory usage: 72.2+ KB\n"
     ]
    }
   ],
   "source": [
    "df.info()"
   ]
  },
  {
   "cell_type": "code",
   "execution_count": 5,
   "id": "2f933026-c68a-4533-9d42-56ca6641bfdd",
   "metadata": {},
   "outputs": [
    {
     "data": {
      "text/html": [
       "<div>\n",
       "<style scoped>\n",
       "    .dataframe tbody tr th:only-of-type {\n",
       "        vertical-align: middle;\n",
       "    }\n",
       "\n",
       "    .dataframe tbody tr th {\n",
       "        vertical-align: top;\n",
       "    }\n",
       "\n",
       "    .dataframe thead th {\n",
       "        text-align: right;\n",
       "    }\n",
       "</style>\n",
       "<table border=\"1\" class=\"dataframe\">\n",
       "  <thead>\n",
       "    <tr style=\"text-align: right;\">\n",
       "      <th></th>\n",
       "      <th>msa</th>\n",
       "      <th>fipstate</th>\n",
       "      <th>fipscty</th>\n",
       "    </tr>\n",
       "  </thead>\n",
       "  <tbody>\n",
       "    <tr>\n",
       "      <th>count</th>\n",
       "      <td>1845.000000</td>\n",
       "      <td>1845.000000</td>\n",
       "      <td>1845.000000</td>\n",
       "    </tr>\n",
       "    <tr>\n",
       "      <th>mean</th>\n",
       "      <td>29581.209214</td>\n",
       "      <td>30.233604</td>\n",
       "      <td>102.755556</td>\n",
       "    </tr>\n",
       "    <tr>\n",
       "      <th>std</th>\n",
       "      <td>11453.452098</td>\n",
       "      <td>15.246178</td>\n",
       "      <td>116.251128</td>\n",
       "    </tr>\n",
       "    <tr>\n",
       "      <th>min</th>\n",
       "      <td>10100.000000</td>\n",
       "      <td>1.000000</td>\n",
       "      <td>1.000000</td>\n",
       "    </tr>\n",
       "    <tr>\n",
       "      <th>25%</th>\n",
       "      <td>19100.000000</td>\n",
       "      <td>18.000000</td>\n",
       "      <td>33.000000</td>\n",
       "    </tr>\n",
       "    <tr>\n",
       "      <th>50%</th>\n",
       "      <td>29620.000000</td>\n",
       "      <td>29.000000</td>\n",
       "      <td>75.000000</td>\n",
       "    </tr>\n",
       "    <tr>\n",
       "      <th>75%</th>\n",
       "      <td>39500.000000</td>\n",
       "      <td>45.000000</td>\n",
       "      <td>129.000000</td>\n",
       "    </tr>\n",
       "    <tr>\n",
       "      <th>max</th>\n",
       "      <td>49820.000000</td>\n",
       "      <td>56.000000</td>\n",
       "      <td>999.000000</td>\n",
       "    </tr>\n",
       "  </tbody>\n",
       "</table>\n",
       "</div>"
      ],
      "text/plain": [
       "                msa     fipstate      fipscty\n",
       "count   1845.000000  1845.000000  1845.000000\n",
       "mean   29581.209214    30.233604   102.755556\n",
       "std    11453.452098    15.246178   116.251128\n",
       "min    10100.000000     1.000000     1.000000\n",
       "25%    19100.000000    18.000000    33.000000\n",
       "50%    29620.000000    29.000000    75.000000\n",
       "75%    39500.000000    45.000000   129.000000\n",
       "max    49820.000000    56.000000   999.000000"
      ]
     },
     "execution_count": 5,
     "metadata": {},
     "output_type": "execute_result"
    }
   ],
   "source": [
    "df.describe()"
   ]
  },
  {
   "cell_type": "code",
   "execution_count": 6,
   "id": "4e0383b8-b99f-4e96-b3ae-9d7fa98476ee",
   "metadata": {},
   "outputs": [],
   "source": [
    "df.to_csv('../../data/raw/msa_county_reference22.csv',index=False)"
   ]
  },
  {
   "cell_type": "code",
   "execution_count": 7,
   "id": "5a429d4b-bf7b-464d-a471-fc770725d3ff",
   "metadata": {},
   "outputs": [
    {
     "name": "stdout",
     "output_type": "stream",
     "text": [
      "Before adding prefixes:  Index(['msa', 'msa_name', 'fipstate', 'fipscty', 'county_name'], dtype='object')\n",
      "After adding prefixes:  Index(['GeoRef_msa', 'GeoRef_msa_name', 'GeoRef_fipstate', 'GeoRef_fipscty',\n",
      "       'GeoRef_county_name'],\n",
      "      dtype='object')\n"
     ]
    }
   ],
   "source": [
    "print('Before adding prefixes: ' , df.columns)\n",
    "df = merging_utils.add_prefix_all(df, prefix=prefix)\n",
    "print('After adding prefixes: ' , df.columns)"
   ]
  },
  {
   "cell_type": "code",
   "execution_count": 8,
   "id": "a8b12e38-f2aa-4564-aa57-69f4d6c5db80",
   "metadata": {},
   "outputs": [
    {
     "data": {
      "text/html": [
       "<div>\n",
       "<style scoped>\n",
       "    .dataframe tbody tr th:only-of-type {\n",
       "        vertical-align: middle;\n",
       "    }\n",
       "\n",
       "    .dataframe tbody tr th {\n",
       "        vertical-align: top;\n",
       "    }\n",
       "\n",
       "    .dataframe thead th {\n",
       "        text-align: right;\n",
       "    }\n",
       "</style>\n",
       "<table border=\"1\" class=\"dataframe\">\n",
       "  <thead>\n",
       "    <tr style=\"text-align: right;\">\n",
       "      <th></th>\n",
       "      <th>GeoRef_msa</th>\n",
       "      <th>GeoRef_msa_name</th>\n",
       "      <th>GeoRef_fipstate</th>\n",
       "      <th>GeoRef_fipscty</th>\n",
       "      <th>GeoRef_county_name</th>\n",
       "    </tr>\n",
       "  </thead>\n",
       "  <tbody>\n",
       "    <tr>\n",
       "      <th>0</th>\n",
       "      <td>10100</td>\n",
       "      <td>Aberdeen, SD Micro Area</td>\n",
       "      <td>46</td>\n",
       "      <td>13</td>\n",
       "      <td>Brown County, South Dakota</td>\n",
       "    </tr>\n",
       "    <tr>\n",
       "      <th>1</th>\n",
       "      <td>10100</td>\n",
       "      <td>Aberdeen, SD Micro Area</td>\n",
       "      <td>46</td>\n",
       "      <td>45</td>\n",
       "      <td>Edmunds County, South Dakota</td>\n",
       "    </tr>\n",
       "    <tr>\n",
       "      <th>2</th>\n",
       "      <td>10140</td>\n",
       "      <td>Aberdeen, WA Micro Area</td>\n",
       "      <td>53</td>\n",
       "      <td>27</td>\n",
       "      <td>Grays Harbor County, Washington</td>\n",
       "    </tr>\n",
       "    <tr>\n",
       "      <th>3</th>\n",
       "      <td>10180</td>\n",
       "      <td>Abilene, TX Metro Area</td>\n",
       "      <td>48</td>\n",
       "      <td>59</td>\n",
       "      <td>Callahan County, Texas</td>\n",
       "    </tr>\n",
       "    <tr>\n",
       "      <th>4</th>\n",
       "      <td>10180</td>\n",
       "      <td>Abilene, TX Metro Area</td>\n",
       "      <td>48</td>\n",
       "      <td>253</td>\n",
       "      <td>Jones County, Texas</td>\n",
       "    </tr>\n",
       "    <tr>\n",
       "      <th>...</th>\n",
       "      <td>...</td>\n",
       "      <td>...</td>\n",
       "      <td>...</td>\n",
       "      <td>...</td>\n",
       "      <td>...</td>\n",
       "    </tr>\n",
       "    <tr>\n",
       "      <th>1840</th>\n",
       "      <td>49700</td>\n",
       "      <td>Yuba City, CA Metro Area</td>\n",
       "      <td>6</td>\n",
       "      <td>101</td>\n",
       "      <td>Sutter County, California</td>\n",
       "    </tr>\n",
       "    <tr>\n",
       "      <th>1841</th>\n",
       "      <td>49700</td>\n",
       "      <td>Yuba City, CA Metro Area</td>\n",
       "      <td>6</td>\n",
       "      <td>115</td>\n",
       "      <td>Yuba County, California</td>\n",
       "    </tr>\n",
       "    <tr>\n",
       "      <th>1842</th>\n",
       "      <td>49740</td>\n",
       "      <td>Yuma, AZ Metro Area</td>\n",
       "      <td>4</td>\n",
       "      <td>27</td>\n",
       "      <td>Yuma County, Arizona</td>\n",
       "    </tr>\n",
       "    <tr>\n",
       "      <th>1843</th>\n",
       "      <td>49780</td>\n",
       "      <td>Zanesville, OH Micro Area</td>\n",
       "      <td>39</td>\n",
       "      <td>119</td>\n",
       "      <td>Muskingum County, Ohio</td>\n",
       "    </tr>\n",
       "    <tr>\n",
       "      <th>1844</th>\n",
       "      <td>49820</td>\n",
       "      <td>Zapata, TX Micro Area</td>\n",
       "      <td>48</td>\n",
       "      <td>505</td>\n",
       "      <td>Zapata County, Texas</td>\n",
       "    </tr>\n",
       "  </tbody>\n",
       "</table>\n",
       "<p>1845 rows × 5 columns</p>\n",
       "</div>"
      ],
      "text/plain": [
       "      GeoRef_msa            GeoRef_msa_name  GeoRef_fipstate  GeoRef_fipscty  \\\n",
       "0          10100    Aberdeen, SD Micro Area               46              13   \n",
       "1          10100    Aberdeen, SD Micro Area               46              45   \n",
       "2          10140    Aberdeen, WA Micro Area               53              27   \n",
       "3          10180     Abilene, TX Metro Area               48              59   \n",
       "4          10180     Abilene, TX Metro Area               48             253   \n",
       "...          ...                        ...              ...             ...   \n",
       "1840       49700   Yuba City, CA Metro Area                6             101   \n",
       "1841       49700   Yuba City, CA Metro Area                6             115   \n",
       "1842       49740        Yuma, AZ Metro Area                4              27   \n",
       "1843       49780  Zanesville, OH Micro Area               39             119   \n",
       "1844       49820      Zapata, TX Micro Area               48             505   \n",
       "\n",
       "                   GeoRef_county_name  \n",
       "0          Brown County, South Dakota  \n",
       "1        Edmunds County, South Dakota  \n",
       "2     Grays Harbor County, Washington  \n",
       "3              Callahan County, Texas  \n",
       "4                 Jones County, Texas  \n",
       "...                               ...  \n",
       "1840        Sutter County, California  \n",
       "1841          Yuba County, California  \n",
       "1842             Yuma County, Arizona  \n",
       "1843           Muskingum County, Ohio  \n",
       "1844             Zapata County, Texas  \n",
       "\n",
       "[1845 rows x 5 columns]"
      ]
     },
     "execution_count": 8,
     "metadata": {},
     "output_type": "execute_result"
    }
   ],
   "source": [
    "df"
   ]
  },
  {
   "cell_type": "code",
   "execution_count": 9,
   "id": "86eb6cee-2307-431e-b2a2-fce65e5330be",
   "metadata": {},
   "outputs": [],
   "source": [
    "df.to_csv('../../data/interim/data1.csv',index=False)"
   ]
  }
 ],
 "metadata": {
  "kernelspec": {
   "display_name": "Python 3 (ipykernel)",
   "language": "python",
   "name": "python3"
  },
  "language_info": {
   "codemirror_mode": {
    "name": "ipython",
    "version": 3
   },
   "file_extension": ".py",
   "mimetype": "text/x-python",
   "name": "python",
   "nbconvert_exporter": "python",
   "pygments_lexer": "ipython3",
   "version": "3.9.7"
  }
 },
 "nbformat": 4,
 "nbformat_minor": 5
}

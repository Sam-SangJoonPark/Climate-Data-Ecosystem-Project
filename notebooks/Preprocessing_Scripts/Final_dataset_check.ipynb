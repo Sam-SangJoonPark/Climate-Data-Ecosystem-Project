{
 "cells": [
  {
   "cell_type": "markdown",
   "id": "8bfb77f2-74bc-43b6-8567-5859bcd2cab4",
   "metadata": {},
   "source": [
    "# Final dataset quality check"
   ]
  },
  {
   "cell_type": "markdown",
   "id": "26b01312-c058-4c17-8cbf-f106078d2eb8",
   "metadata": {},
   "source": [
    "## Select the version"
   ]
  },
  {
   "cell_type": "code",
   "execution_count": 8,
   "id": "3af43bd7-a69a-4a29-9220-efaa6c008520",
   "metadata": {},
   "outputs": [],
   "source": [
    "criteria_version = 2023"
   ]
  },
  {
   "cell_type": "markdown",
   "id": "e089a79e-e8f9-4183-b1ee-9e2f7c4b03f4",
   "metadata": {},
   "source": [
    "### Step 1. Load the data"
   ]
  },
  {
   "cell_type": "code",
   "execution_count": 9,
   "id": "aa9a1e35-0d3e-4a06-bcc0-67cc77531d54",
   "metadata": {},
   "outputs": [],
   "source": [
    "import pandas as pd\n",
    "# Step 0: Get the file path\n",
    "path = f'../../data/final/final_data_{criteria_version}_with_index.csv'\n",
    "\n",
    "# Step 1: Load the final dataset\n",
    "final_df = pd.read_csv(path)"
   ]
  },
  {
   "cell_type": "code",
   "execution_count": 10,
   "id": "0e2359a3-8bc2-4bca-8c0b-b4e6447efebe",
   "metadata": {},
   "outputs": [
    {
     "data": {
      "text/html": [
       "<div>\n",
       "<style scoped>\n",
       "    .dataframe tbody tr th:only-of-type {\n",
       "        vertical-align: middle;\n",
       "    }\n",
       "\n",
       "    .dataframe tbody tr th {\n",
       "        vertical-align: top;\n",
       "    }\n",
       "\n",
       "    .dataframe thead th {\n",
       "        text-align: right;\n",
       "    }\n",
       "</style>\n",
       "<table border=\"1\" class=\"dataframe\">\n",
       "  <thead>\n",
       "    <tr style=\"text-align: right;\">\n",
       "      <th></th>\n",
       "      <th>Crosswalk2023_CBSA Code</th>\n",
       "      <th>Crosswalk2023_CBSA Title</th>\n",
       "      <th>Crosswalk2023_State Name</th>\n",
       "      <th>NRI_AVLN_EALPE</th>\n",
       "      <th>NRI_CFLD_EALPE</th>\n",
       "      <th>NRI_CWAV_EALPE</th>\n",
       "      <th>NRI_ERQK_EALPE</th>\n",
       "      <th>NRI_HAIL_EALPE</th>\n",
       "      <th>NRI_HWAV_EALPE</th>\n",
       "      <th>NRI_HRCN_EALPE</th>\n",
       "      <th>...</th>\n",
       "      <th>Unemployment_Rate_2015</th>\n",
       "      <th>Unemployment_Rate_2016</th>\n",
       "      <th>Unemployment_Rate_2017</th>\n",
       "      <th>Unemployment_Rate_2018</th>\n",
       "      <th>Unemployment_Rate_2019</th>\n",
       "      <th>Unemployment_Rate_2020</th>\n",
       "      <th>Unemployment_Rate_2021</th>\n",
       "      <th>Unemployment_Rate_2022</th>\n",
       "      <th>Unemployment_Rate_2023</th>\n",
       "      <th>Unemployment_Rate_2024</th>\n",
       "    </tr>\n",
       "  </thead>\n",
       "  <tbody>\n",
       "    <tr>\n",
       "      <th>0</th>\n",
       "      <td>10180</td>\n",
       "      <td>Abilene, TX</td>\n",
       "      <td>Texas</td>\n",
       "      <td>0.00000</td>\n",
       "      <td>0.000000</td>\n",
       "      <td>485441.029265</td>\n",
       "      <td>1.990667e+04</td>\n",
       "      <td>483001.071482</td>\n",
       "      <td>1.375110e+06</td>\n",
       "      <td>2.751964e+03</td>\n",
       "      <td>...</td>\n",
       "      <td>3.879999</td>\n",
       "      <td>3.922610</td>\n",
       "      <td>3.699524</td>\n",
       "      <td>3.319797</td>\n",
       "      <td>2.993762</td>\n",
       "      <td>5.547505</td>\n",
       "      <td>4.524517</td>\n",
       "      <td>3.465130</td>\n",
       "      <td>3.475004</td>\n",
       "      <td>3.453718</td>\n",
       "    </tr>\n",
       "    <tr>\n",
       "      <th>1</th>\n",
       "      <td>10380</td>\n",
       "      <td>Aguadilla, PR</td>\n",
       "      <td>Puerto Rico</td>\n",
       "      <td>0.00000</td>\n",
       "      <td>1170.838964</td>\n",
       "      <td>0.000000</td>\n",
       "      <td>2.658766e+07</td>\n",
       "      <td>3692.194710</td>\n",
       "      <td>0.000000e+00</td>\n",
       "      <td>5.023007e+06</td>\n",
       "      <td>...</td>\n",
       "      <td>14.898062</td>\n",
       "      <td>14.647494</td>\n",
       "      <td>13.909433</td>\n",
       "      <td>11.533757</td>\n",
       "      <td>10.233626</td>\n",
       "      <td>NaN</td>\n",
       "      <td>8.894395</td>\n",
       "      <td>7.429044</td>\n",
       "      <td>7.345076</td>\n",
       "      <td>7.013001</td>\n",
       "    </tr>\n",
       "    <tr>\n",
       "      <th>2</th>\n",
       "      <td>10420</td>\n",
       "      <td>Akron, OH</td>\n",
       "      <td>Ohio</td>\n",
       "      <td>0.00000</td>\n",
       "      <td>0.000000</td>\n",
       "      <td>283878.596332</td>\n",
       "      <td>1.674568e+05</td>\n",
       "      <td>118503.301890</td>\n",
       "      <td>4.250440e+05</td>\n",
       "      <td>9.718143e+03</td>\n",
       "      <td>...</td>\n",
       "      <td>5.010237</td>\n",
       "      <td>5.074836</td>\n",
       "      <td>4.979921</td>\n",
       "      <td>4.553170</td>\n",
       "      <td>4.221920</td>\n",
       "      <td>7.948233</td>\n",
       "      <td>5.327807</td>\n",
       "      <td>3.936039</td>\n",
       "      <td>3.733755</td>\n",
       "      <td>4.422811</td>\n",
       "    </tr>\n",
       "    <tr>\n",
       "      <th>3</th>\n",
       "      <td>10500</td>\n",
       "      <td>Albany, GA</td>\n",
       "      <td>Georgia</td>\n",
       "      <td>0.00000</td>\n",
       "      <td>0.000000</td>\n",
       "      <td>0.000000</td>\n",
       "      <td>1.601961e+05</td>\n",
       "      <td>88644.910173</td>\n",
       "      <td>4.045832e+05</td>\n",
       "      <td>2.234962e+05</td>\n",
       "      <td>...</td>\n",
       "      <td>7.109153</td>\n",
       "      <td>6.378150</td>\n",
       "      <td>5.586441</td>\n",
       "      <td>4.925708</td>\n",
       "      <td>4.418882</td>\n",
       "      <td>7.360307</td>\n",
       "      <td>5.286233</td>\n",
       "      <td>3.965588</td>\n",
       "      <td>3.874854</td>\n",
       "      <td>4.153575</td>\n",
       "    </tr>\n",
       "    <tr>\n",
       "      <th>4</th>\n",
       "      <td>10540</td>\n",
       "      <td>Albany, OR</td>\n",
       "      <td>Oregon</td>\n",
       "      <td>36919.52184</td>\n",
       "      <td>0.000000</td>\n",
       "      <td>1485.855905</td>\n",
       "      <td>1.342393e+07</td>\n",
       "      <td>28589.341968</td>\n",
       "      <td>2.023923e+04</td>\n",
       "      <td>0.000000e+00</td>\n",
       "      <td>...</td>\n",
       "      <td>6.551074</td>\n",
       "      <td>5.629640</td>\n",
       "      <td>4.673749</td>\n",
       "      <td>4.579362</td>\n",
       "      <td>4.277329</td>\n",
       "      <td>7.720513</td>\n",
       "      <td>5.562171</td>\n",
       "      <td>4.362312</td>\n",
       "      <td>4.090657</td>\n",
       "      <td>4.624895</td>\n",
       "    </tr>\n",
       "  </tbody>\n",
       "</table>\n",
       "<p>5 rows × 181 columns</p>\n",
       "</div>"
      ],
      "text/plain": [
       "   Crosswalk2023_CBSA Code Crosswalk2023_CBSA Title Crosswalk2023_State Name  \\\n",
       "0                    10180              Abilene, TX                    Texas   \n",
       "1                    10380            Aguadilla, PR              Puerto Rico   \n",
       "2                    10420                Akron, OH                     Ohio   \n",
       "3                    10500               Albany, GA                  Georgia   \n",
       "4                    10540               Albany, OR                   Oregon   \n",
       "\n",
       "   NRI_AVLN_EALPE  NRI_CFLD_EALPE  NRI_CWAV_EALPE  NRI_ERQK_EALPE  \\\n",
       "0         0.00000        0.000000   485441.029265    1.990667e+04   \n",
       "1         0.00000     1170.838964        0.000000    2.658766e+07   \n",
       "2         0.00000        0.000000   283878.596332    1.674568e+05   \n",
       "3         0.00000        0.000000        0.000000    1.601961e+05   \n",
       "4     36919.52184        0.000000     1485.855905    1.342393e+07   \n",
       "\n",
       "   NRI_HAIL_EALPE  NRI_HWAV_EALPE  NRI_HRCN_EALPE  ...  \\\n",
       "0   483001.071482    1.375110e+06    2.751964e+03  ...   \n",
       "1     3692.194710    0.000000e+00    5.023007e+06  ...   \n",
       "2   118503.301890    4.250440e+05    9.718143e+03  ...   \n",
       "3    88644.910173    4.045832e+05    2.234962e+05  ...   \n",
       "4    28589.341968    2.023923e+04    0.000000e+00  ...   \n",
       "\n",
       "   Unemployment_Rate_2015  Unemployment_Rate_2016  Unemployment_Rate_2017  \\\n",
       "0                3.879999                3.922610                3.699524   \n",
       "1               14.898062               14.647494               13.909433   \n",
       "2                5.010237                5.074836                4.979921   \n",
       "3                7.109153                6.378150                5.586441   \n",
       "4                6.551074                5.629640                4.673749   \n",
       "\n",
       "   Unemployment_Rate_2018  Unemployment_Rate_2019  Unemployment_Rate_2020  \\\n",
       "0                3.319797                2.993762                5.547505   \n",
       "1               11.533757               10.233626                     NaN   \n",
       "2                4.553170                4.221920                7.948233   \n",
       "3                4.925708                4.418882                7.360307   \n",
       "4                4.579362                4.277329                7.720513   \n",
       "\n",
       "   Unemployment_Rate_2021  Unemployment_Rate_2022  Unemployment_Rate_2023  \\\n",
       "0                4.524517                3.465130                3.475004   \n",
       "1                8.894395                7.429044                7.345076   \n",
       "2                5.327807                3.936039                3.733755   \n",
       "3                5.286233                3.965588                3.874854   \n",
       "4                5.562171                4.362312                4.090657   \n",
       "\n",
       "   Unemployment_Rate_2024  \n",
       "0                3.453718  \n",
       "1                7.013001  \n",
       "2                4.422811  \n",
       "3                4.153575  \n",
       "4                4.624895  \n",
       "\n",
       "[5 rows x 181 columns]"
      ]
     },
     "execution_count": 10,
     "metadata": {},
     "output_type": "execute_result"
    }
   ],
   "source": [
    "final_df.head()"
   ]
  },
  {
   "cell_type": "markdown",
   "id": "f48a3112-6e4d-416e-a258-48a5d76a23a1",
   "metadata": {},
   "source": [
    "### Step 2. Basic information"
   ]
  },
  {
   "cell_type": "code",
   "execution_count": 11,
   "id": "54e69ebf-0075-48a5-a222-e68398cefc12",
   "metadata": {},
   "outputs": [
    {
     "name": "stdout",
     "output_type": "stream",
     "text": [
      "\n",
      " Dataset shape:\n",
      " (393, 181)\n",
      "\n",
      " Columns:\n",
      " ['Crosswalk2023_CBSA Code', 'Crosswalk2023_CBSA Title', 'Crosswalk2023_State Name', 'NRI_AVLN_EALPE', 'NRI_CFLD_EALPE', 'NRI_CWAV_EALPE', 'NRI_ERQK_EALPE', 'NRI_HAIL_EALPE', 'NRI_HWAV_EALPE', 'NRI_HRCN_EALPE', 'NRI_ISTM_EALPE', 'NRI_LNDS_EALPE', 'NRI_LTNG_EALPE', 'NRI_RFLD_EALPE', 'NRI_SWND_EALPE', 'NRI_TRND_EALPE', 'NRI_TSUN_EALPE', 'NRI_VLCN_EALPE', 'NRI_WFIR_EALPE', 'NRI_WNTW_EALPE', 'NRI_AVLN_EALB', 'NRI_CFLD_EALB', 'NRI_CWAV_EALB', 'NRI_ERQK_EALB', 'NRI_HAIL_EALB', 'NRI_HWAV_EALB', 'NRI_HRCN_EALB', 'NRI_ISTM_EALB', 'NRI_LNDS_EALB', 'NRI_LTNG_EALB', 'NRI_RFLD_EALB', 'NRI_SWND_EALB', 'NRI_TRND_EALB', 'NRI_TSUN_EALB', 'NRI_VLCN_EALB', 'NRI_WFIR_EALB', 'NRI_WNTW_EALB', 'NRI_AVLN_EXPPE', 'NRI_CFLD_EXPPE', 'NRI_CWAV_EXPPE', 'NRI_ERQK_EXPPE', 'NRI_HAIL_EXPPE', 'NRI_HWAV_EXPPE', 'NRI_HRCN_EXPPE', 'NRI_ISTM_EXPPE', 'NRI_LNDS_EXPPE', 'NRI_LTNG_EXPPE', 'NRI_RFLD_EXPPE', 'NRI_SWND_EXPPE', 'NRI_TRND_EXPPE', 'NRI_TSUN_EXPPE', 'NRI_VLCN_EXPPE', 'NRI_WFIR_EXPPE', 'NRI_WNTW_EXPPE', 'NRI_AVLN_EXPB', 'NRI_CFLD_EXPB', 'NRI_CWAV_EXPB', 'NRI_ERQK_EXPB', 'NRI_HAIL_EXPB', 'NRI_HWAV_EXPB', 'NRI_HRCN_EXPB', 'NRI_ISTM_EXPB', 'NRI_LNDS_EXPB', 'NRI_LTNG_EXPB', 'NRI_RFLD_EXPB', 'NRI_SWND_EXPB', 'NRI_TRND_EXPB', 'NRI_TSUN_EXPB', 'NRI_VLCN_EXPB', 'NRI_WFIR_EXPB', 'NRI_WNTW_EXPB', 'NRI_BUILDVALUE', 'NRI_POPULATION', 'NRI_AREA', 'Migration16to20_A_Inflow_Estimate', 'Migration16to20_A_Outflow_Estimate', 'Migration16to20_A_NetMigration_Estimate', 'Migration16to20_A_GrossMigration_Estimate', 'Migration16to20_A_Inflow_MOE', 'Migration16to20_A_Outflow_MOE', 'Migration16to20_A_NetMigration_MOE', 'Migration16to20_A_GrossMigration_MOE', 'HousingPI25_Metro Area', 'HousingPI25_GEOID.1', 'HousingPI25_1980', 'HousingPI25_1981', 'HousingPI25_1982', 'HousingPI25_1983', 'HousingPI25_1984', 'HousingPI25_1985', 'HousingPI25_1986', 'HousingPI25_1987', 'HousingPI25_1988', 'HousingPI25_1989', 'HousingPI25_1990', 'HousingPI25_1991', 'HousingPI25_1992', 'HousingPI25_1993', 'HousingPI25_1994', 'HousingPI25_1995', 'HousingPI25_1996', 'HousingPI25_1997', 'HousingPI25_1998', 'HousingPI25_1999', 'HousingPI25_2000', 'HousingPI25_2001', 'HousingPI25_2002', 'HousingPI25_2003', 'HousingPI25_2004', 'HousingPI25_2005', 'HousingPI25_2006', 'HousingPI25_2007', 'HousingPI25_2008', 'HousingPI25_2009', 'HousingPI25_2010', 'HousingPI25_2011', 'HousingPI25_2012', 'HousingPI25_2013', 'HousingPI25_2014', 'HousingPI25_2015', 'HousingPI25_2016', 'HousingPI25_2017', 'HousingPI25_2018', 'HousingPI25_2019', 'HousingPI25_2020', 'HousingPI25_2021', 'HousingPI25_2022', 'HousingPI25_2023', 'HousingPI25_2024', 'Labor_Force_2015', 'Labor_Force_2016', 'Labor_Force_2017', 'Labor_Force_2018', 'Labor_Force_2019', 'Labor_Force_2020', 'Labor_Force_2021', 'Labor_Force_2022', 'Labor_Force_2023', 'Labor_Force_2024', 'Employed_2015', 'Employed_2016', 'Employed_2017', 'Employed_2018', 'Employed_2019', 'Employed_2020', 'Employed_2021', 'Employed_2022', 'Employed_2023', 'Employed_2024', 'Unemployed_2015', 'Unemployed_2016', 'Unemployed_2017', 'Unemployed_2018', 'Unemployed_2019', 'Unemployed_2020', 'Unemployed_2021', 'Unemployed_2022', 'Unemployed_2023', 'Unemployed_2024', 'total_population_equiv', 'exposure_pop_total', 'pct_pop_exposed', 'loss_pop_total', 'pct_pop_loss', 'building_equiv', 'exposure_bldg_total', 'pct_bldg_exposed', 'loss_bldg_total', 'pct_bldg_loss', 'loss_per_capita_pe', 'loss_per_capita_bldg', 'Unemployment_Rate_2015', 'Unemployment_Rate_2016', 'Unemployment_Rate_2017', 'Unemployment_Rate_2018', 'Unemployment_Rate_2019', 'Unemployment_Rate_2020', 'Unemployment_Rate_2021', 'Unemployment_Rate_2022', 'Unemployment_Rate_2023', 'Unemployment_Rate_2024']\n",
      "\n",
      " Data Types:\n",
      " Crosswalk2023_CBSA Code       int64\n",
      "Crosswalk2023_CBSA Title     object\n",
      "Crosswalk2023_State Name     object\n",
      "NRI_AVLN_EALPE              float64\n",
      "NRI_CFLD_EALPE              float64\n",
      "                             ...   \n",
      "Unemployment_Rate_2020      float64\n",
      "Unemployment_Rate_2021      float64\n",
      "Unemployment_Rate_2022      float64\n",
      "Unemployment_Rate_2023      float64\n",
      "Unemployment_Rate_2024      float64\n",
      "Length: 181, dtype: object\n"
     ]
    }
   ],
   "source": [
    "# Step 2: Basic Info\n",
    "print(\"\\n Dataset shape:\\n\", final_df.shape)\n",
    "print(\"\\n Columns:\\n\", final_df.columns.tolist())\n",
    "print(\"\\n Data Types:\\n\", final_df.dtypes)"
   ]
  },
  {
   "cell_type": "markdown",
   "id": "8feac5a7-2bc9-45b2-acfe-dfa0daecbf11",
   "metadata": {},
   "source": [
    "### Step 3. Uniqueness in MSA"
   ]
  },
  {
   "cell_type": "code",
   "execution_count": 12,
   "id": "c6e11472-27b7-4668-b96a-838a8c672cf3",
   "metadata": {},
   "outputs": [
    {
     "name": "stdout",
     "output_type": "stream",
     "text": [
      "\n",
      " Is 'Crosswalk2023_CBSA Code' unique?: True\n"
     ]
    }
   ],
   "source": [
    "# Step 3: Key Check\n",
    "key_col = f'Crosswalk{criteria_version}_CBSA Code'\n",
    "print(f\"\\n Is '{key_col}' unique?:\", final_df[key_col].is_unique)"
   ]
  },
  {
   "cell_type": "markdown",
   "id": "332b0d4d-c639-4ece-baed-4a0804d82f08",
   "metadata": {},
   "source": [
    "### Step 4. Missing value"
   ]
  },
  {
   "cell_type": "code",
   "execution_count": 13,
   "id": "59e8e0c8-fc41-4ba8-9601-c7e35cd0dd12",
   "metadata": {},
   "outputs": [
    {
     "name": "stdout",
     "output_type": "stream",
     "text": [
      "\n",
      "Missing Value Summary per Column:\n",
      "                                            Missing Count  Missing Ratio (%)\n",
      "Migration16to20_A_NetMigration_MOE                    16           4.071247\n",
      "Migration16to20_A_Outflow_MOE                         16           4.071247\n",
      "Migration16to20_A_GrossMigration_MOE                  16           4.071247\n",
      "Migration16to20_A_GrossMigration_Estimate             16           4.071247\n",
      "Migration16to20_A_NetMigration_Estimate               16           4.071247\n",
      "...                                                  ...                ...\n",
      "pct_pop_exposed                                        5           1.272265\n",
      "pct_pop_loss                                           5           1.272265\n",
      "pct_bldg_exposed                                       5           1.272265\n",
      "pct_bldg_loss                                          5           1.272265\n",
      "loss_per_capita_pe                                     5           1.272265\n",
      "\n",
      "[65 rows x 2 columns]\n"
     ]
    }
   ],
   "source": [
    "# Step 4: Missing Value Check\n",
    "missing_count = final_df.isnull().sum()\n",
    "missing_ratio = final_df.isnull().mean()\n",
    "\n",
    "missing_summary = pd.DataFrame({\n",
    "    'Missing Count': missing_count,\n",
    "    'Missing Ratio (%)': missing_ratio*100\n",
    "}).sort_values(by='Missing Ratio (%)', ascending=False)\n",
    "\n",
    "print(\"\\nMissing Value Summary per Column:\\n\", missing_summary[missing_summary['Missing Count'] > 0])\n"
   ]
  }
 ],
 "metadata": {
  "kernelspec": {
   "display_name": "Python 3 (ipykernel)",
   "language": "python",
   "name": "python3"
  },
  "language_info": {
   "codemirror_mode": {
    "name": "ipython",
    "version": 3
   },
   "file_extension": ".py",
   "mimetype": "text/x-python",
   "name": "python",
   "nbconvert_exporter": "python",
   "pygments_lexer": "ipython3",
   "version": "3.9.7"
  }
 },
 "nbformat": 4,
 "nbformat_minor": 5
}

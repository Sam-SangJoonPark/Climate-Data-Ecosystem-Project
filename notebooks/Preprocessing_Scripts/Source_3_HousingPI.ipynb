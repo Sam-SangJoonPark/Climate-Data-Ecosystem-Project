{
 "cells": [
  {
   "cell_type": "markdown",
   "id": "2accaed1-dc12-4080-ba36-d608230f4fca",
   "metadata": {},
   "source": [
    "# Data Source 3 - Housing"
   ]
  },
  {
   "cell_type": "markdown",
   "id": "b90c9233-2edc-4e00-95ac-f9b415624a68",
   "metadata": {},
   "source": [
    "# Version 1 - 2025 update"
   ]
  },
  {
   "cell_type": "markdown",
   "id": "2de00beb-4b6f-4187-8508-62bb1d13038b",
   "metadata": {},
   "source": [
    "### Raw data Source"
   ]
  },
  {
   "cell_type": "markdown",
   "id": "6776c9cf-d853-4ce5-be8a-a47e13c8cc7b",
   "metadata": {},
   "source": [
    "https://docs.google.com/spreadsheets/d/1L5nTOVlTZ-WSxgXwvV5rmIKNL7Rm7msQxbYqZ2YHsLs/edit?gid=0#gid=0\n"
   ]
  },
  {
   "cell_type": "markdown",
   "id": "e5dbaf9e-f508-414c-ad30-ac35c080d8d5",
   "metadata": {},
   "source": [
    "### Explanation about data"
   ]
  },
  {
   "cell_type": "markdown",
   "id": "58425a12-81e6-44fc-9518-14fc730df5a4",
   "metadata": {},
   "source": [
    "https://www.jchs.harvard.edu/son-2025-price-to-income-map"
   ]
  },
  {
   "cell_type": "markdown",
   "id": "0dfe0ec5-adea-4ebb-b687-2ab9c4b7b45f",
   "metadata": {},
   "source": [
    "# Version 2 - 2022 update"
   ]
  },
  {
   "cell_type": "markdown",
   "id": "f1fc6207-f66c-4c36-96f6-282cb5054c17",
   "metadata": {},
   "source": [
    "### Raw Data Source"
   ]
  },
  {
   "cell_type": "markdown",
   "id": "ef1b7892-444c-46af-8509-062d9c6c0142",
   "metadata": {},
   "source": [
    "https://docs.google.com/spreadsheets/d/1inBM5dtDSOvLrkfOSRC07eeIsOY8TkDrhtuu5Zp8t3Y/edit?gid=547532302#gid=547532302"
   ]
  },
  {
   "cell_type": "markdown",
   "id": "8359caf1-920f-492f-bfe5-bcfa7f7cac0c",
   "metadata": {},
   "source": [
    "### Explanation about data"
   ]
  },
  {
   "cell_type": "markdown",
   "id": "f64f1ca1-ca1a-4dc9-95f7-6a06a1e16ff0",
   "metadata": {},
   "source": [
    "https://www.jchs.harvard.edu/blog/home-price-income-ratio-reaches-record-high-0"
   ]
  },
  {
   "cell_type": "markdown",
   "id": "ff58da68-d491-4689-98f7-5446f01ed87d",
   "metadata": {},
   "source": [
    "## Select the year"
   ]
  },
  {
   "cell_type": "code",
   "execution_count": 1,
   "id": "297e6b63-7eac-41f5-b5f0-3e16ea10d87d",
   "metadata": {},
   "outputs": [],
   "source": [
    "version = 2025"
   ]
  },
  {
   "cell_type": "code",
   "execution_count": 4,
   "id": "dc0b151d-f8a2-446b-828b-e02dff0a2198",
   "metadata": {},
   "outputs": [],
   "source": [
    "import sys\n",
    "sys.path.append('../../scripts')  \n",
    "import merging_utils\n",
    "import yaml\n",
    "import pandas as pd\n",
    "\n",
    "with open(\"../../config/preprocessing.yaml\", \"r\") as f:\n",
    "    preprocessing_config = yaml.safe_load(f)\n",
    "\n",
    "prefix = preprocessing_config['housing'][version]['prefix']"
   ]
  },
  {
   "cell_type": "code",
   "execution_count": 5,
   "id": "b111fbd2-d0bf-4569-8bed-21b4d744a080",
   "metadata": {},
   "outputs": [],
   "source": [
    "path = '../../data/raw/'\n",
    "file_name = preprocessing_config['housing'][version]['file_name']"
   ]
  },
  {
   "cell_type": "code",
   "execution_count": 6,
   "id": "e63f73b8-251e-489a-81c1-f354199ece44",
   "metadata": {},
   "outputs": [],
   "source": [
    "df = pd.read_csv(path+file_name)"
   ]
  },
  {
   "cell_type": "code",
   "execution_count": 7,
   "id": "6bdaf070-7437-49ff-8a4f-1d01c4af6660",
   "metadata": {},
   "outputs": [
    {
     "name": "stdout",
     "output_type": "stream",
     "text": [
      "<class 'pandas.core.frame.DataFrame'>\n",
      "RangeIndex: 387 entries, 0 to 386\n",
      "Data columns (total 48 columns):\n",
      " #   Column      Non-Null Count  Dtype  \n",
      "---  ------      --------------  -----  \n",
      " 0   GEOID       387 non-null    int64  \n",
      " 1   Metro Area  387 non-null    object \n",
      " 2   GEOID.1     387 non-null    int64  \n",
      " 3   1980        387 non-null    float64\n",
      " 4   1981        387 non-null    float64\n",
      " 5   1982        387 non-null    float64\n",
      " 6   1983        387 non-null    float64\n",
      " 7   1984        387 non-null    float64\n",
      " 8   1985        387 non-null    float64\n",
      " 9   1986        387 non-null    float64\n",
      " 10  1987        387 non-null    float64\n",
      " 11  1988        387 non-null    float64\n",
      " 12  1989        387 non-null    float64\n",
      " 13  1990        387 non-null    float64\n",
      " 14  1991        387 non-null    float64\n",
      " 15  1992        387 non-null    float64\n",
      " 16  1993        387 non-null    float64\n",
      " 17  1994        387 non-null    float64\n",
      " 18  1995        387 non-null    float64\n",
      " 19  1996        387 non-null    float64\n",
      " 20  1997        387 non-null    float64\n",
      " 21  1998        387 non-null    float64\n",
      " 22  1999        387 non-null    float64\n",
      " 23  2000        387 non-null    float64\n",
      " 24  2001        387 non-null    float64\n",
      " 25  2002        387 non-null    float64\n",
      " 26  2003        387 non-null    float64\n",
      " 27  2004        387 non-null    float64\n",
      " 28  2005        387 non-null    float64\n",
      " 29  2006        387 non-null    float64\n",
      " 30  2007        387 non-null    float64\n",
      " 31  2008        387 non-null    float64\n",
      " 32  2009        387 non-null    float64\n",
      " 33  2010        387 non-null    float64\n",
      " 34  2011        387 non-null    float64\n",
      " 35  2012        387 non-null    float64\n",
      " 36  2013        387 non-null    float64\n",
      " 37  2014        387 non-null    float64\n",
      " 38  2015        387 non-null    float64\n",
      " 39  2016        387 non-null    float64\n",
      " 40  2017        387 non-null    float64\n",
      " 41  2018        387 non-null    float64\n",
      " 42  2019        387 non-null    float64\n",
      " 43  2020        387 non-null    float64\n",
      " 44  2021        387 non-null    float64\n",
      " 45  2022        387 non-null    float64\n",
      " 46  2023        387 non-null    float64\n",
      " 47  2024        387 non-null    float64\n",
      "dtypes: float64(45), int64(2), object(1)\n",
      "memory usage: 145.2+ KB\n"
     ]
    }
   ],
   "source": [
    "df.info()"
   ]
  },
  {
   "cell_type": "code",
   "execution_count": 8,
   "id": "370bcfb5-fa05-42de-ae80-4ef3bee02a86",
   "metadata": {},
   "outputs": [
    {
     "data": {
      "text/html": [
       "<div>\n",
       "<style scoped>\n",
       "    .dataframe tbody tr th:only-of-type {\n",
       "        vertical-align: middle;\n",
       "    }\n",
       "\n",
       "    .dataframe tbody tr th {\n",
       "        vertical-align: top;\n",
       "    }\n",
       "\n",
       "    .dataframe thead th {\n",
       "        text-align: right;\n",
       "    }\n",
       "</style>\n",
       "<table border=\"1\" class=\"dataframe\">\n",
       "  <thead>\n",
       "    <tr style=\"text-align: right;\">\n",
       "      <th></th>\n",
       "      <th>GEOID</th>\n",
       "      <th>Metro Area</th>\n",
       "      <th>GEOID.1</th>\n",
       "      <th>1980</th>\n",
       "      <th>1981</th>\n",
       "      <th>1982</th>\n",
       "      <th>1983</th>\n",
       "      <th>1984</th>\n",
       "      <th>1985</th>\n",
       "      <th>1986</th>\n",
       "      <th>...</th>\n",
       "      <th>2015</th>\n",
       "      <th>2016</th>\n",
       "      <th>2017</th>\n",
       "      <th>2018</th>\n",
       "      <th>2019</th>\n",
       "      <th>2020</th>\n",
       "      <th>2021</th>\n",
       "      <th>2022</th>\n",
       "      <th>2023</th>\n",
       "      <th>2024</th>\n",
       "    </tr>\n",
       "  </thead>\n",
       "  <tbody>\n",
       "  </tbody>\n",
       "</table>\n",
       "<p>0 rows × 48 columns</p>\n",
       "</div>"
      ],
      "text/plain": [
       "Empty DataFrame\n",
       "Columns: [GEOID, Metro Area, GEOID.1, 1980, 1981, 1982, 1983, 1984, 1985, 1986, 1987, 1988, 1989, 1990, 1991, 1992, 1993, 1994, 1995, 1996, 1997, 1998, 1999, 2000, 2001, 2002, 2003, 2004, 2005, 2006, 2007, 2008, 2009, 2010, 2011, 2012, 2013, 2014, 2015, 2016, 2017, 2018, 2019, 2020, 2021, 2022, 2023, 2024]\n",
       "Index: []\n",
       "\n",
       "[0 rows x 48 columns]"
      ]
     },
     "execution_count": 8,
     "metadata": {},
     "output_type": "execute_result"
    }
   ],
   "source": [
    "# GEOID, GEOID.1 are the same column\n",
    "df[df['GEOID'] != df['GEOID.1']]"
   ]
  },
  {
   "cell_type": "code",
   "execution_count": 9,
   "id": "f1c43876-8fde-4878-9c71-34e2b5efeb1e",
   "metadata": {},
   "outputs": [
    {
     "name": "stdout",
     "output_type": "stream",
     "text": [
      "Before adding prefixes:  Index(['GEOID', 'Metro Area', 'GEOID.1', '1980', '1981', '1982', '1983',\n",
      "       '1984', '1985', '1986', '1987', '1988', '1989', '1990', '1991', '1992',\n",
      "       '1993', '1994', '1995', '1996', '1997', '1998', '1999', '2000', '2001',\n",
      "       '2002', '2003', '2004', '2005', '2006', '2007', '2008', '2009', '2010',\n",
      "       '2011', '2012', '2013', '2014', '2015', '2016', '2017', '2018', '2019',\n",
      "       '2020', '2021', '2022', '2023', '2024'],\n",
      "      dtype='object')\n",
      "\n",
      "After adding prefixes:  Index(['HousingPI25_GEOID', 'HousingPI25_Metro Area', 'HousingPI25_GEOID.1',\n",
      "       'HousingPI25_1980', 'HousingPI25_1981', 'HousingPI25_1982',\n",
      "       'HousingPI25_1983', 'HousingPI25_1984', 'HousingPI25_1985',\n",
      "       'HousingPI25_1986', 'HousingPI25_1987', 'HousingPI25_1988',\n",
      "       'HousingPI25_1989', 'HousingPI25_1990', 'HousingPI25_1991',\n",
      "       'HousingPI25_1992', 'HousingPI25_1993', 'HousingPI25_1994',\n",
      "       'HousingPI25_1995', 'HousingPI25_1996', 'HousingPI25_1997',\n",
      "       'HousingPI25_1998', 'HousingPI25_1999', 'HousingPI25_2000',\n",
      "       'HousingPI25_2001', 'HousingPI25_2002', 'HousingPI25_2003',\n",
      "       'HousingPI25_2004', 'HousingPI25_2005', 'HousingPI25_2006',\n",
      "       'HousingPI25_2007', 'HousingPI25_2008', 'HousingPI25_2009',\n",
      "       'HousingPI25_2010', 'HousingPI25_2011', 'HousingPI25_2012',\n",
      "       'HousingPI25_2013', 'HousingPI25_2014', 'HousingPI25_2015',\n",
      "       'HousingPI25_2016', 'HousingPI25_2017', 'HousingPI25_2018',\n",
      "       'HousingPI25_2019', 'HousingPI25_2020', 'HousingPI25_2021',\n",
      "       'HousingPI25_2022', 'HousingPI25_2023', 'HousingPI25_2024'],\n",
      "      dtype='object')\n"
     ]
    }
   ],
   "source": [
    "print('Before adding prefixes: ' , df.columns)\n",
    "df = merging_utils.add_prefix_all(df, prefix=prefix)\n",
    "print()\n",
    "print('After adding prefixes: ' , df.columns)"
   ]
  },
  {
   "cell_type": "code",
   "execution_count": 10,
   "id": "3e5498a3-fb07-4079-b3f1-dcab76ddb26d",
   "metadata": {},
   "outputs": [],
   "source": [
    "df.to_csv(f'../../data/interim/data3_housing_{version}.csv',index=False)"
   ]
  }
 ],
 "metadata": {
  "kernelspec": {
   "display_name": "Python 3 (ipykernel)",
   "language": "python",
   "name": "python3"
  },
  "language_info": {
   "codemirror_mode": {
    "name": "ipython",
    "version": 3
   },
   "file_extension": ".py",
   "mimetype": "text/x-python",
   "name": "python",
   "nbconvert_exporter": "python",
   "pygments_lexer": "ipython3",
   "version": "3.9.7"
  }
 },
 "nbformat": 4,
 "nbformat_minor": 5
}
